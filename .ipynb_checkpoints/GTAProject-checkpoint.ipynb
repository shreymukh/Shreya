{
 "cells": [
  {
   "cell_type": "code",
   "execution_count": null,
   "metadata": {},
   "outputs": [],
   "source": [
    "# my_cities = []\n",
    "# for item in city_df[\"Median Sales Price\"]:\n",
    "#     string=item\n",
    "#     string=string.strip('$')\n",
    "#     string=string.replace(',','')\n",
    "#     string = float(string)\n",
    "#     my_cities.append(string)\n",
    "# city_df[\"Median Sales Price\"] = my_cities\n",
    "# city_df = city_df.sort_values(\"Median Sales Price\")\n",
    "# city_df"
   ]
  },
  {
   "cell_type": "code",
   "execution_count": null,
   "metadata": {},
   "outputs": [],
   "source": [
    "# Median Sales Price for all Cities in US Bar Chart\n",
    "\n",
    "# Set x axis and tick locations\n",
    "x_axis = np.arange(len(city_df))\n",
    "tick_locations = [value for value in x_axis]\n",
    "\n",
    "# create a list of numbers for x values\n",
    "tick_locations = np.arange(len(city_df))\n",
    "\n",
    "# create bar chart and set the values of xticks\n",
    "plt.figure(figsize=(15,10))\n",
    "plt.bar(tick_locations, city_df[\"Median Sales Price\"], align=\"center\")\n",
    "\n",
    "plt.xticks(tick_locations, city_df[\"City\"], rotation=\"vertical\")\n",
    "plt.title(\"Median Home Sales Price in US Cities\")\n",
    "plt.xlabel(\"Cities\")\n",
    "plt.ylabel(\"Median Sales Price\")\n",
    "plt.tight_layout()\n",
    "plt.savefig(\"Median Sales Price.png\")\n",
    "plt.show()"
   ]
  },
  {
   "cell_type": "code",
   "execution_count": null,
   "metadata": {},
   "outputs": [],
   "source": [
    "# Median Sales Price for all States in US Bar Chart\n",
    "\n",
    "# Set x axis and tick locations\n",
    "x_axis = np.arange(len(city_df))\n",
    "tick_locations = [value for value in x_axis]\n",
    "\n",
    "# create a list of numbers for x values\n",
    "tick_locations = np.arange(len(city_df))\n",
    "\n",
    "# create bar chart and set the values of xticks\n",
    "plt.figure(figsize=(15,10))\n",
    "plt.bar(tick_locations, city_df[\"Median Sales Price\"], color =\"c\",align=\"center\")\n",
    "plt.xticks(tick_locations, city_df[\"State\"], color =\"k\", rotation=\"vertical\")\n",
    "plt.title(\"Median Home Sales Price in US States\")\n",
    "plt.xlabel(\"States\")\n",
    "plt.ylabel(\"Median Sales Price\")\n",
    "plt.tight_layout()\n",
    "plt.savefig(\"Median_Sales_Price_States.png\")\n",
    "plt.show()"
   ]
  },
  {
   "cell_type": "code",
   "execution_count": null,
   "metadata": {},
   "outputs": [],
   "source": [
    "# Median Sales Price for all Cities in US Bar Chart\n",
    "\n",
    "# Set x axis and tick locations\n",
    "x_axis = np.arange(len(city_df))\n",
    "tick_locations = [value for value in x_axis]\n",
    "\n",
    "# create a list of numbers for x values\n",
    "tick_locations = np.arange(len(city_df))\n",
    "\n",
    "# create bar chart and set the values of xticks\n",
    "plt.figure(figsize=(15,10))\n",
    "plt.bar(tick_locations, city_df[\"Median Rental\"], align=\"center\")\n",
    "plt.xticks(tick_locations, city_df[\"City\"], rotation=\"vertical\")\n",
    "plt.title(\"Median Home Rental Prices in US Cities\")\n",
    "plt.xlabel(\"Cities\")\n",
    "plt.ylabel(\"Median Rental\")\n",
    "plt.tight_layout()\n",
    "plt.savefig(\"Median_Rental.png\")\n",
    "plt.show()"
   ]
  },
  {
   "cell_type": "code",
   "execution_count": null,
   "metadata": {},
   "outputs": [],
   "source": [
    "# Median Sales Price for all States in US Bar Chart\n",
    "\n",
    "# Set x axis and tick locations\n",
    "x_axis = np.arange(len(city_df))\n",
    "tick_locations = [value for value in x_axis]\n",
    "\n",
    "# create a list of numbers for x values\n",
    "tick_locations = np.arange(len(city_df))\n",
    "\n",
    "# create bar chart and set the values of xticks\n",
    "plt.figure(figsize=(15,10))\n",
    "plt.bar(tick_locations, city_df[\"Median Rental\"], color=\"c\", align=\"center\")\n",
    "plt.xticks(tick_locations, city_df[\"State\"], rotation=\"vertical\")\n",
    "plt.title(\"Median Home Rental Prices in US States\")\n",
    "plt.xlabel(\"Cities\")\n",
    "plt.ylabel(\"Median Rental\")\n",
    "plt.tight_layout()\n",
    "plt.savefig(\"Median_Rental_states.png\")\n",
    "plt.show()"
   ]
  },
  {
   "cell_type": "code",
   "execution_count": null,
   "metadata": {},
   "outputs": [],
   "source": [
    "# Number of Whole foods across cities in US Bar Chart\n",
    "\n",
    "# Set x axis and tick locations\n",
    "x_axis = np.arange(len(city_df))\n",
    "tick_locations = [value for value in x_axis]\n",
    "\n",
    "# create a list of numbers for x values\n",
    "tick_locations = np.arange(len(city_df))\n",
    "\n",
    "# create bar chart and set the values of xticks\n",
    "plt.figure(figsize=(15,10))\n",
    "plt.bar(tick_locations, city_df[\"# of Whole Foods\"], color ='g', align=\"center\")\n",
    "plt.xticks(tick_locations, city_df[\"City\"], color='k', rotation=\"vertical\")\n",
    "plt.title(\"Number of Whole Foods in US Cities\")\n",
    "plt.xlabel(\"Cities\")\n",
    "plt.ylabel(\"# of Whole Foods\")\n",
    "plt.tight_layout()\n",
    "plt.savefig(\"Whole Foods Across Cities\")\n",
    "plt.show()"
   ]
  },
  {
   "cell_type": "code",
   "execution_count": null,
   "metadata": {},
   "outputs": [],
   "source": [
    "# Number of Whole foods across States in US Bar Chart\n",
    "\n",
    "# Set x axis and tick locations\n",
    "x_axis = np.arange(len(city_df))\n",
    "tick_locations = [value for value in x_axis]\n",
    "\n",
    "# create a list of numbers for x values\n",
    "tick_locations = np.arange(len(city_df))\n",
    "\n",
    "# create bar chart and set the values of xticks\n",
    "plt.figure(figsize=(15,10))\n",
    "plt.bar(tick_locations, city_df[\"# of Whole Foods\"], color ='g', align=\"center\")\n",
    "plt.xticks(tick_locations, city_df[\"State\"], color='k', rotation=\"vertical\")\n",
    "plt.title(\"Number of Whole Foods in US States\")\n",
    "plt.xlabel(\"States\")\n",
    "plt.ylabel(\"# of Whole Foods\")\n",
    "plt.tight_layout()\n",
    "plt.savefig(\"Whole Foods Across US States.png\")\n",
    "plt.show()"
   ]
  }
 ],
 "metadata": {
  "kernelspec": {
   "display_name": "Python 3",
   "language": "python",
   "name": "python3"
  },
  "language_info": {
   "codemirror_mode": {
    "name": "ipython",
    "version": 3
   },
   "file_extension": ".py",
   "mimetype": "text/x-python",
   "name": "python",
   "nbconvert_exporter": "python",
   "pygments_lexer": "ipython3",
   "version": "3.7.3"
  }
 },
 "nbformat": 4,
 "nbformat_minor": 4
}
