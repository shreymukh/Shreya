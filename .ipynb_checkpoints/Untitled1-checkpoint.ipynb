{
 "cells": [
  {
   "cell_type": "code",
   "execution_count": 3,
   "metadata": {},
   "outputs": [
    {
     "name": "stdout",
     "output_type": "stream",
     "text": [
      "\n",
      "Election Results\n",
      "-------------------------------------------\n",
      "Total votes: 1048575\n",
      "-------------------------------------------\n",
      "Khan: 63.094% (661583)\n",
      "Correy: 19.936% (209046)\n",
      "Li: 13.958% (146360)\n",
      "O'Tooley: 3.012% (31586)\n",
      "-------------------------------------------\n",
      "Winner: Khan\n",
      "-------------------------------------------\n"
     ]
    },
    {
     "data": {
      "text/plain": [
       "44"
      ]
     },
     "execution_count": 3,
     "metadata": {},
     "output_type": "execute_result"
    }
   ],
   "source": [
    "  \n",
    "import os\n",
    "import csv\n",
    "\n",
    "csvpath = os.path.join(\"C:/Users/17703/Shreya/PyPoll/election_data.csv\")\n",
    "\n",
    "#Initializing Values of the variables and lists\n",
    "totalVotes = 0\n",
    "candidates = []\n",
    "voteCount = []\n",
    "winnerVoteCount = 0\n",
    "winner = str\n",
    "\n",
    "#Reading data from the file election_data.csv\n",
    "with open(csvpath, 'r', newline='') as csvfile:        \n",
    "    \n",
    "    csvreader = csv.reader(csvfile, delimiter=',')\n",
    "    #Reading header data in csv_header\n",
    "    csv_header = next(csvreader)\n",
    "\n",
    "    #Looping through each data record in the file\n",
    "    for row in csvreader:\n",
    "        \n",
    "        #Incrementing vote counter for each record\n",
    "        totalVotes = totalVotes + 1\n",
    "\n",
    "        #Creating a list of distinct candidates \n",
    "        if(row[2] not in candidates):\n",
    "            candidates.append(row[2])\n",
    "            voteCount.append(0)\n",
    "        \n",
    "        \n",
    "        #Getting the Index in candidate list \n",
    "        candidateIndex = candidates.index(row[2])\n",
    "        \n",
    "        #Using the same Index to increment count of votes for the candidate\n",
    "        voteCount[candidateIndex] += 1\n",
    "\n",
    "    #Printing output on console\n",
    "    print(f\"\\nElection Results\\n-------------------------------------------\")\n",
    "    print(f\"Total votes: {totalVotes}\")\n",
    "    print(\"-------------------------------------------\")\n",
    "    \n",
    "    for x in range(len(candidates)):\n",
    "        votePercent = round((voteCount[x]/totalVotes)*100,3)\n",
    "        print(f\"{candidates[x]}: {votePercent}% ({voteCount[x]})\")\n",
    "        \n",
    "        if (winnerVoteCount<voteCount[x]):\n",
    "            winnerVoteCount = voteCount[x]\n",
    "            winner = candidates[x]\n",
    "    \n",
    "print(\"-------------------------------------------\")\n",
    "print(f\"Winner: {winner}\")\n",
    "print(\"-------------------------------------------\")\n",
    "\n",
    "file = open('output.txt','w')\n",
    "\n",
    "#Writing output to the file    \n",
    "file.write(\"Election Results\")\n",
    "file.write(\"\\n-------------------------------------------\")\n",
    "file.write(\"\\nTotal votes:\" + str(totalVotes))\n",
    "file.write(\"\\n-------------------------------------------\")\n",
    "    \n",
    "\n",
    "file.write(\"\\n\" + str(candidates[x]) +\" : \" + str(votePercent) \n",
    "                + \"% (\"+ str(voteCount[x]) + \")\")\n",
    "file.write(\"\\n-------------------------------------------\")\n",
    "file.write(\"\\nWinner: \" + str(winner))\n",
    "file.write(\"\\n-------------------------------------------\")\n",
    "\n"
   ]
  },
  {
   "cell_type": "code",
   "execution_count": null,
   "metadata": {},
   "outputs": [],
   "source": []
  }
 ],
 "metadata": {
  "kernelspec": {
   "display_name": "Python 3",
   "language": "python",
   "name": "python3"
  },
  "language_info": {
   "codemirror_mode": {
    "name": "ipython",
    "version": 3
   },
   "file_extension": ".py",
   "mimetype": "text/x-python",
   "name": "python",
   "nbconvert_exporter": "python",
   "pygments_lexer": "ipython3",
   "version": "3.7.3"
  }
 },
 "nbformat": 4,
 "nbformat_minor": 4
}
