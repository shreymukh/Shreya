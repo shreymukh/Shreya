{
 "cells": [
  {
   "cell_type": "code",
   "execution_count": null,
   "metadata": {},
   "outputs": [],
   "source": [
    "# lists for the voting data\n",
    "voter_id = []\n",
    "county = []\n",
    "voting_data = {}\n",
    "count = 0\n",
    "candidates = []\n",
    "vote_count = [] # to store vote counts for each candidate\n",
    "# Load and Read each file\n",
    "file_path = input(\"Enter the path for the file (without the Filename) : \")\n",
    "file_name = input(\"Enter the .csv file name (with file extension) : \")\n",
    "file = os.path.join(file_path, file_name)\n",
    "with open(file, newline = \"\") as csvfile :\n",
    "    csvreader = csv.reader(csvfile, delimiter = \",\")\n",
    "    next(csvreader, None) # skip header\n",
    "    for row in csvreader :\n",
    "        voter_id.append(row[0])\n",
    "        candidates.append(row[2])\n",
    "        voting_data[row[0]]=row[2]\n",
    "# * The total number of votes cast\n",
    "total_votes = len(voter_id)\n",
    "# unique candidate values into a new list 'candidates_uni'\n",
    "candidates_uni = list(set(candidates))\n",
    "# vote count for each candidate\n",
    "for i in range (len(candidates_uni)):\n",
    "    for values in voting_data.values() :\n",
    "        if values == candidates_uni[i]:\n",
    "            count += 1\n",
    "    vote_count.append(count)\n",
    "    count = 0\n",
    "max_vote_index = vote_count.index(max(vote_count))\n",
    "\n",
    "\n",
    "# set a variable for output file.\n",
    "#provide filename for the output file \n",
    "output_filename = input(\"Enter a file name to save the output (with extension. Ex. outputfile.txt) : \")\n",
    "output_file = os.path.join(file_path, output_filename) \n",
    "with open(output_file, 'w', newline =\"\") as datafile: # creates an output file name in the same folder as the inputfile.\n",
    "    writer  = csv.writer(datafile)\n",
    "    writer.writerow(['-----------------------------------------------------------'])\n",
    "    writer.writerow([\"Election Results\"])\n",
    "    writer.writerow([\"-------------------------------------------------\"])\n",
    "   # * The total number of votes cast \n",
    "    writer.writerow([\"Total Votes: \" + str(total_votes)])\n",
    "    writer.writerow([\"-------------------------------------------------\"])\n",
    "    # * A complete list of candidates who received votes\n",
    "    for i in range (len(candidates_uni)):\n",
    "        writer.writerow([candidates_uni[i] +\": \"+ str((vote_count[i]/total_votes)*100) +\"%  (\" + str(vote_count[i]) +\")\"])\n",
    "    writer.writerow([\"-------------------------------------------------\"])\n",
    "    # * The winner of the election based on popular vote.\n",
    "    writer.writerow([\"Winner: \" + str(candidates_uni[max_vote_index])])\n",
    "    writer.writerow([\"-------------------------------------------------\"])\n",
    "    \n",
    "with open(output_file, 'r', newline=\"\")as datafile :\n",
    "    reader = csv.reader(datafile, delimiter = \",\")\n",
    "    for row in reader:\n",
    "        print(row)"
   ]
  },
  {
   "cell_type": "code",
   "execution_count": null,
   "metadata": {},
   "outputs": [],
   "source": [
    "for x in set(candidatelist):\n",
    "            unique_candidate.append(x)\n",
    "\n",
    "        # y is the total number of votes per candidate\n",
    "        y = candidatelist.count(x)\n",
    "        \n",
    "        vote_count.append(y)\n",
    "\n",
    "        # z is the percent of total votes per candidate\n",
    "        z = (y/vote_count)*100\n",
    "        vote_percent.append(z)\n"
   ]
  }
 ],
 "metadata": {
  "kernelspec": {
   "display_name": "Python 3",
   "language": "python",
   "name": "python3"
  },
  "language_info": {
   "codemirror_mode": {
    "name": "ipython",
    "version": 3
   },
   "file_extension": ".py",
   "mimetype": "text/x-python",
   "name": "python",
   "nbconvert_exporter": "python",
   "pygments_lexer": "ipython3",
   "version": "3.7.3"
  }
 },
 "nbformat": 4,
 "nbformat_minor": 4
}
