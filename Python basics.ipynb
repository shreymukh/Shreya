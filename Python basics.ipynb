{
 "cells": [
  {
   "cell_type": "code",
   "execution_count": null,
   "metadata": {},
   "outputs": [],
   "source": [
    "C = \"Hello World\"\n",
    "print(C)"
   ]
  },
  {
   "cell_type": "code",
   "execution_count": null,
   "metadata": {},
   "outputs": [],
   "source": [
    "#files = os.listdir()\n",
    "\n",
    "#now = os.getcwd()\n",
    "\n",
    "#from os.path import join\n",
    "\n",
    "#files = os.listdir()\n",
    "\n",
    "#print(files)\n",
    "\n",
    "#import csv \n",
    "\n",
    "#print(dir(os))\n",
    "\n",
    "#os.print(cwd)\n",
    "\n",
    "#now =print(os.getcwd())\n",
    "\n",
    "#os.getcwd()\n",
    " "
   ]
  },
  {
   "cell_type": "code",
   "execution_count": null,
   "metadata": {},
   "outputs": [],
   "source": [
    "print(\"Hello\")"
   ]
  },
  {
   "cell_type": "code",
   "execution_count": null,
   "metadata": {},
   "outputs": [],
   "source": [
    "l = [1,2,3,4,True, [1,2,3,4],\"Python\",\"Anaconda\"]"
   ]
  },
  {
   "cell_type": "code",
   "execution_count": null,
   "metadata": {},
   "outputs": [],
   "source": [
    "l"
   ]
  },
  {
   "cell_type": "code",
   "execution_count": null,
   "metadata": {},
   "outputs": [],
   "source": [
    "type([7])"
   ]
  },
  {
   "cell_type": "code",
   "execution_count": null,
   "metadata": {},
   "outputs": [],
   "source": [
    "list(range(0,10,2))"
   ]
  },
  {
   "cell_type": "code",
   "execution_count": null,
   "metadata": {},
   "outputs": [],
   "source": [
    "l = [1, 2, 3, 4, 'one', 'two', 'three', True, [5, 6,[\"str\",\"stuff\"]]]"
   ]
  },
  {
   "cell_type": "code",
   "execution_count": null,
   "metadata": {},
   "outputs": [],
   "source": [
    "l"
   ]
  },
  {
   "cell_type": "code",
   "execution_count": null,
   "metadata": {},
   "outputs": [],
   "source": [
    "l[8][2][1]"
   ]
  },
  {
   "cell_type": "code",
   "execution_count": null,
   "metadata": {},
   "outputs": [],
   "source": [
    "import random\n",
    "\n",
    "keep_going =\"y\"\n",
    "\n",
    "while (keep_going ==\"y\"):\n",
    "    \n",
    "    computer_choice = random.choice([\"r\",\"p\",\"s\"])\n",
    "\n",
    "    \n",
    "    print(\"Let's Play Rock Paper Scissors!\")\n",
    "\n",
    "\n",
    "    options = [\"r\", \"p\", \"s\"]\n",
    "\n",
    "    \n",
    "    user_choice = input(\"Make your Choice: (r)ock, (p)aper, (s)cissors? \")\n",
    "    \n",
    "    if(user_choice==computer_choice):\n",
    "        \n",
    "        print(\"it was a draw\")\n",
    "        \n",
    "    else:\n",
    "\n",
    "        keep_going=input(\"would you like to keep going (y/n)\")"
   ]
  },
  {
   "cell_type": "code",
   "execution_count": null,
   "metadata": {},
   "outputs": [],
   "source": [
    "\n",
    "candy_l=[\"snickers\", \"M&M's\",\"kit-kat's\",\"skittles\"]\n",
    "candy_l\n",
    "candy.pop()"
   ]
  },
  {
   "cell_type": "code",
   "execution_count": null,
   "metadata": {},
   "outputs": [],
   "source": [
    "import os\n",
    "import csv\n",
    "\n",
    "csvpath=os.path.join(\"Shreya\",\"Accounting.csv\")\n",
    "print(csvpath)\n",
    "\n",
    "row_l=[]\n",
    "#with open(csvpath, newline='') as csvfile:\n",
    "with open(\"Accounting.csv\", newline='') as csvfile:\n",
    "    csvreader = csv.reader(csvfile,delimiter=',')\n",
    "    \n",
    "    print(csvreader)\n",
    "    \n",
    "    for row in csvreader:\n",
    "        print(row)\n",
    "        #print(type(row))\n",
    "        #print(row[2])\n",
    "        #print(csvpath)\n",
    "        #row_l.append(row)"
   ]
  },
  {
   "cell_type": "code",
   "execution_count": null,
   "metadata": {},
   "outputs": [],
   "source": [
    "csvpath=os.path.join(\"Shreya\",\"accounting.csv\")\n",
    "type(csvpath)"
   ]
  },
  {
   "cell_type": "code",
   "execution_count": null,
   "metadata": {},
   "outputs": [],
   "source": [
    "file=\"C:/Users/17703/Desktop/Data.txt\"\n",
    "with open (file,'r') as text:\n",
    "    lines= text.read()\n",
    "    print(lines)"
   ]
  },
  {
   "cell_type": "code",
   "execution_count": null,
   "metadata": {},
   "outputs": [],
   "source": [
    "import os\n",
    "import csv\n",
    "\n",
    "csvpath=os.path.join(\"Cereal_cleaner.csv\")\n",
    "print(csvpath)\n",
    "type(csvpath)\n",
    "\n",
    "with open(csvpath, newline='') as csvfile:\n",
    "    csvreader = csv.reader(csvfile,delimiter=',')\n",
    "    csv_header=next(csvfile)  \n",
    "    print(\"Header: {}\".format(csv.reader))\n",
    "\n",
    "    for row in csvreader: \n",
    "        if float(row[7])>=8:\n",
    "            print(row)\n",
    "    print(csv_header)\n",
    "    "
   ]
  },
  {
   "cell_type": "code",
   "execution_count": null,
   "metadata": {},
   "outputs": [],
   "source": [
    "person_d ={\"name\":\"Tom\", \"age\":22, \"hobbies\":[\"Travelling\",\"cooking\",\"Trekking\"],\n",
    "\"wakeup\":{\"Monday\":\"9 am\", \"Tuesday\":\"6 am\", \"Wednesday\": \"7 am\", \"Thursday\": \"5 am\"}}\n",
    "\n",
    "print(person_d)\n"
   ]
  },
  {
   "cell_type": "code",
   "execution_count": null,
   "metadata": {},
   "outputs": [],
   "source": [
    "person_d[\"name\"]"
   ]
  },
  {
   "cell_type": "code",
   "execution_count": null,
   "metadata": {},
   "outputs": [],
   "source": [
    "#list comprehension"
   ]
  },
  {
   "cell_type": "code",
   "execution_count": null,
   "metadata": {},
   "outputs": [],
   "source": [
    "word = \"School House\""
   ]
  },
  {
   "cell_type": "code",
   "execution_count": null,
   "metadata": {},
   "outputs": [],
   "source": [
    "word = \"School House\"\n",
    "each_letter =[]\n",
    "for letter in word:\n",
    "    each_letter.append(letter)\n",
    "each_letter"
   ]
  },
  {
   "cell_type": "code",
   "execution_count": null,
   "metadata": {},
   "outputs": [],
   "source": [
    "e_letter2 = [letter for letter in word]"
   ]
  },
  {
   "cell_type": "code",
   "execution_count": null,
   "metadata": {},
   "outputs": [],
   "source": [
    "e_letter2"
   ]
  },
  {
   "cell_type": "code",
   "execution_count": null,
   "metadata": {},
   "outputs": [],
   "source": [
    "def most_basic(argument):\n",
    "    print(\"Do something{}\".format(argument))\n",
    "    return \"I returned something\""
   ]
  },
  {
   "cell_type": "code",
   "execution_count": null,
   "metadata": {},
   "outputs": [],
   "source": [
    "another_variable = most_basic(\"write something here\")"
   ]
  },
  {
   "cell_type": "code",
   "execution_count": null,
   "metadata": {},
   "outputs": [],
   "source": [
    "def multiply(num1,num2):\n",
    "    value=num1*num2\n",
    "    \n",
    "    return value"
   ]
  },
  {
   "cell_type": "code",
   "execution_count": null,
   "metadata": {},
   "outputs": [],
   "source": [
    "multiply(5,4)"
   ]
  },
  {
   "cell_type": "code",
   "execution_count": null,
   "metadata": {},
   "outputs": [],
   "source": [
    "def factorial(num):\n",
    "    if num==0 or num==1:\n",
    "        return 1\n",
    "    else:\n",
    "        return factorial(num-1)*num"
   ]
  },
  {
   "cell_type": "code",
   "execution_count": null,
   "metadata": {},
   "outputs": [],
   "source": [
    "\n",
    "factorial(3) "
   ]
  },
  {
   "cell_type": "code",
   "execution_count": null,
   "metadata": {},
   "outputs": [],
   "source": [
    "def average(num):\n",
    "    return (sum(num)) /(len(num))\n"
   ]
  },
  {
   "cell_type": "code",
   "execution_count": null,
   "metadata": {},
   "outputs": [],
   "source": [
    "average([10,20,30,40,50])"
   ]
  },
  {
   "cell_type": "code",
   "execution_count": null,
   "metadata": {},
   "outputs": [],
   "source": [
    "def avg(num_l):\n",
    "    total = sum(num_l)\n",
    "    howmany = len(num_l)\n",
    "    return total/howmany"
   ]
  },
  {
   "cell_type": "code",
   "execution_count": null,
   "metadata": {},
   "outputs": [],
   "source": [
    "our_l=[1,2,3,4,5,6,7,8,9]"
   ]
  },
  {
   "cell_type": "code",
   "execution_count": null,
   "metadata": {},
   "outputs": [],
   "source": [
    "avg(our_l)"
   ]
  },
  {
   "cell_type": "code",
   "execution_count": null,
   "metadata": {},
   "outputs": [],
   "source": []
  },
  {
   "cell_type": "code",
   "execution_count": null,
   "metadata": {},
   "outputs": [],
   "source": []
  },
  {
   "cell_type": "code",
   "execution_count": null,
   "metadata": {},
   "outputs": [],
   "source": []
  },
  {
   "cell_type": "code",
   "execution_count": null,
   "metadata": {},
   "outputs": [],
   "source": [
    "data_s"
   ]
  },
  {
   "cell_type": "code",
   "execution_count": null,
   "metadata": {},
   "outputs": [],
   "source": [
    "candy_l=[\"snickers\", \"M&M's\",\"kit-kat's\",\"skittles\",\"Tic Tac\",\"Almond Joy\", \"Twizzlers\",\"Star Burst\"]\n",
    "candy_l\n"
   ]
  },
  {
   "cell_type": "code",
   "execution_count": null,
   "metadata": {},
   "outputs": [],
   "source": [
    "candy.pop()"
   ]
  },
  {
   "cell_type": "code",
   "execution_count": null,
   "metadata": {},
   "outputs": [],
   "source": [
    "candy_l.index(\"Star Burst\")"
   ]
  },
  {
   "cell_type": "code",
   "execution_count": null,
   "metadata": {},
   "outputs": [],
   "source": [
    "candy_l.append(\"marsbars\")"
   ]
  },
  {
   "cell_type": "code",
   "execution_count": null,
   "metadata": {},
   "outputs": [],
   "source": [
    "print(candy_l)"
   ]
  },
  {
   "cell_type": "code",
   "execution_count": null,
   "metadata": {},
   "outputs": [],
   "source": [
    "candy_l.pop()"
   ]
  },
  {
   "cell_type": "code",
   "execution_count": null,
   "metadata": {},
   "outputs": [],
   "source": [
    "candy_l"
   ]
  },
  {
   "cell_type": "code",
   "execution_count": null,
   "metadata": {},
   "outputs": [],
   "source": [
    "for x in range(5):\n",
    "    print(x)"
   ]
  },
  {
   "cell_type": "code",
   "execution_count": null,
   "metadata": {},
   "outputs": [],
   "source": [
    "word = \"School House\"\n",
    "each_letter =[]\n",
    "for letter in word:\n",
    "    each_letter.append(letter)\n",
    "each_letter"
   ]
  },
  {
   "cell_type": "code",
   "execution_count": null,
   "metadata": {},
   "outputs": [],
   "source": [
    "x = object()\n",
    "y = object()\n",
    "\n",
    "# TODO: change this code\n",
    "x_list = [x]*10\n",
    "y_list = [y]*10\n",
    "big_list = x_list+y_list\n",
    "print(\"x_list contains %d objects\" % len(x_list))\n",
    "print(\"y_list contains %d objects\" % len(y_list))\n",
    "print(\"big_list contains %d objects\" % len(big_list))\n",
    "\n",
    "# testing code\n",
    "if x_list.count(x) == 10 and y_list.count(y) == 10:\n",
    "    print(\"Almost there...\")\n",
    "if big_list.count(x) == 10 and big_list.count(y) == 10:\n",
    "    print(\"Great!\")"
   ]
  },
  {
   "cell_type": "code",
   "execution_count": null,
   "metadata": {},
   "outputs": [],
   "source": []
  },
  {
   "cell_type": "code",
   "execution_count": null,
   "metadata": {},
   "outputs": [],
   "source": [
    "import os\n",
    "import csv\n",
    "\n",
    "udemy_csv = os.path.join(\"web_starter.csv\")\n",
    "\n",
    "# Lists to store data\n",
    "title = []\n",
    "price = []\n",
    "subscribers = []\n",
    "reviews = []\n",
    "review_percent = []\n",
    "length = []\n",
    "\n",
    "# with open(udemy_csv, newline=\"\", encoding='utf-8') as csvfile:\n",
    "\n",
    "with open(udemy_csv, newline=\"\") as csvfile:\n",
    "    csvreader = csv.reader(csvfile, delimiter=\",\")\n",
    "\n",
    "    for row in csvreader:\n",
    "        # Add title\n",
    "        title.append(row[1])\n",
    "\n",
    "        # Add price\n",
    "        price.append(row[4])\n",
    "\n",
    "        # Add number of subscribers\n",
    "        subscribers.append(row[5])\n",
    "\n",
    "        # Add amount of reviews\n",
    "        reviews.append(row[6])\n",
    "\n",
    "        # Determine percent of review left to 2 decimal places\n",
    "        percent = round(int(row[6]) / int(row[5]), 2)\n",
    "        review_percent.append(percent)\n",
    "\n",
    "        # Get length of the course to just a number\n",
    "        new_length = row[9].split(\" \")\n",
    "        length.append(float(new_length[0]))\n",
    "\n",
    "# Zip lists together\n",
    "cleaned_csv = zip(title, price, subscribers, reviews, review_percent, length)\n",
    "\n",
    "# Set variable for output file\n",
    "output_file = os.path.join(\"web_final.csv\")\n",
    "\n",
    "#  Open the output file\n",
    "with open(output_file, \"w\", newline=\"\") as datafile:\n",
    "    writer = csv.writer(datafile)\n",
    "\n",
    "    # Write the header row\n",
    "    writer.writerow([\"Title\", \"Course Price\", \"Subscribers\", \"Reviews Left\",\n",
    "                     \"Percent of Reviews\", \"Length of Course\"])\n",
    "\n",
    "    # Write in zipped rows\n",
    "    writer.writerows(cleaned_csv)\n",
    "\n",
    "\n",
    "\n"
   ]
  },
  {
   "cell_type": "code",
   "execution_count": null,
   "metadata": {},
   "outputs": [],
   "source": [
    "#create a variable that will count the revenue change\n",
    "         Change = int(row[1]) - Previous\n",
    "         Previous = int(row[1])           \n",
    "              \n",
    "# Greatest Increase in profit\n",
    "\n",
    "        Profit = max(row[1])\n",
    "        if row[1]< Profit :\n",
    "            Greatest_inc_Profit = Profit \n",
    "            Date = row[0]           \n",
    "               \n",
    "\n",
    "# Greatest Decrease in loss\n",
    "\n",
    "    Loss = min(row[1]) \n",
    "        if row[1] > Loss :\n",
    "        Greatest_inc_Loss = Loss\n",
    "        Date = row[0]\n",
    "        \n",
    "        \n",
    "print(Total_Months)\n",
    "\n",
    "print(Total)\n",
    "\n",
    "print(Average_Change)\n",
    "\n",
    "print(Greatest_inc_Profit)\n",
    "\n",
    "print(Greatest_inc_Loss)"
   ]
  },
  {
   "cell_type": "code",
   "execution_count": null,
   "metadata": {},
   "outputs": [],
   "source": [
    "# Write data to a .csv file\n",
    "\n",
    "with open(data_output,newline=\"\") as csvfile:\n",
    "       \n",
    "    csvwriter = csv.writer(csvfile,\"w\",delimiter=',')\n",
    "    \n",
    "    writer = csv.writer(data_output)\n",
    "    \n",
    "    csvwriter.writerow([\"Date\",\"Month_name\",\"Profit/loss\"])"
   ]
  }
 ],
 "metadata": {
  "kernelspec": {
   "display_name": "Python 3",
   "language": "python",
   "name": "python3"
  },
  "language_info": {
   "codemirror_mode": {
    "name": "ipython",
    "version": 3
   },
   "file_extension": ".py",
   "mimetype": "text/x-python",
   "name": "python",
   "nbconvert_exporter": "python",
   "pygments_lexer": "ipython3",
   "version": "3.7.3"
  }
 },
 "nbformat": 4,
 "nbformat_minor": 4
}
