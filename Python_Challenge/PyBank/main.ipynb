{
 "cells": [
  {
   "cell_type": "code",
   "execution_count": 2,
   "metadata": {
    "slideshow": {
     "slide_type": "slide"
    }
   },
   "outputs": [
    {
     "name": "stdout",
     "output_type": "stream",
     "text": [
      "Financial Analysis \n",
      "---------------------------- \n",
      "Total Months: 86 \n",
      "Total Revenue: $38382578 \n",
      "Average Revenue Change: $7803 \n",
      "Greatest Increase in Revenue: Feb-2017 ($532869) \n",
      "Greatest Decrease in Revenue: Feb-2017 ($532869) \n",
      "\n"
     ]
    }
   ],
   "source": [
    "# Import the necessary dependencies for os.path.join()\n",
    "# Import necessary dependencies import csv \n",
    " \n",
    "\n",
    "import os\n",
    "import csv \n",
    " \n",
    "# Track parameters\n",
    "\n",
    "total = 0\n",
    "totalmonths = 0\n",
    "previous = 0\n",
    "change = 0\n",
    "Rev_change =[]\n",
    "average_change = 0\n",
    "greatest_increase = 0\n",
    "greatest_decrease = 999999999\n",
    "\n",
    "\n",
    "# Read in a .csv file \n",
    "\n",
    "csvpath = os.path.join(\"C:/Github/Shreya/Python/PyBank/PyBank_data.csv\")\n",
    "\n",
    "\n",
    "# Open the csv file and read:\n",
    "with open(csvpath) as csvfile:\n",
    "    csvreader = csv.reader(csvfile,delimiter=',')     \n",
    "    csv_header=next(csvfile)\n",
    "    type(csvreader)     \n",
    "\n",
    "\n",
    "    for row in csvreader:\n",
    "\n",
    "        # track the total months\n",
    "        totalmonths = totalmonths + 1\n",
    "\n",
    "        # track the total \n",
    "        total = total + (int(row[1]))\n",
    "\n",
    "\n",
    "        # track the change between two months\n",
    "        change = int(row[1]) - previous\n",
    "        previous = int(row[1])\n",
    "        \n",
    "        #add changes in new list\n",
    "        Rev_change.append(change)\n",
    "        \n",
    "        # Calculate the Average Revenue Change\n",
    "        average_change = round(sum(Rev_change)/totalmonths)\n",
    "\n",
    "\n",
    "        #find the greatest increase in revenue\n",
    "        if (change > greatest_increase):\n",
    "            highest_Inc_Month = row[0]\n",
    "            highest_Inc_Rev = change \n",
    "\n",
    "        #find the greatest decrease in revenue\n",
    "        if (change < greatest_decrease):\n",
    "            lowest_Dec_Month = row[0]\n",
    "            lowest_Dec_Rev = change\n",
    "\n",
    "#create varible to hold finanical analysis results and use f-strings for formatting\n",
    "Results = (\n",
    "f\"Financial Analysis \\n\"\n",
    "f\"---------------------------- \\n\"\n",
    "f\"Total Months: {totalmonths} \\n\"\n",
    "f\"Total Revenue: ${total} \\n\"\n",
    "f\"Average Revenue Change: ${average_change} \\n\"\n",
    "f\"Greatest Increase in Revenue: {highest_Inc_Month} (${highest_Inc_Rev}) \\n\"\n",
    "f\"Greatest Decrease in Revenue: {lowest_Dec_Month} (${lowest_Dec_Rev}) \\n\")\n",
    "print(Results)\n",
    "\n",
    "#write a text file in order to export results to text file\n",
    "\n",
    "output_txt = os.path.join(\"C:/Users/17703/Shreya/PyBank/Py_Bank.txt\")\n",
    "\n",
    "with open(output_txt, 'w') as txtfile:\n",
    "    txt_writer = txtfile.write(Results)"
   ]
  },
  {
   "cell_type": "code",
   "execution_count": null,
   "metadata": {},
   "outputs": [],
   "source": []
  },
  {
   "cell_type": "code",
   "execution_count": null,
   "metadata": {},
   "outputs": [],
   "source": []
  },
  {
   "cell_type": "code",
   "execution_count": null,
   "metadata": {},
   "outputs": [],
   "source": []
  },
  {
   "cell_type": "code",
   "execution_count": null,
   "metadata": {},
   "outputs": [],
   "source": [
    "            "
   ]
  },
  {
   "cell_type": "code",
   "execution_count": null,
   "metadata": {},
   "outputs": [],
   "source": []
  },
  {
   "cell_type": "code",
   "execution_count": null,
   "metadata": {},
   "outputs": [],
   "source": []
  },
  {
   "cell_type": "code",
   "execution_count": null,
   "metadata": {},
   "outputs": [],
   "source": []
  },
  {
   "cell_type": "code",
   "execution_count": null,
   "metadata": {},
   "outputs": [],
   "source": []
  },
  {
   "cell_type": "code",
   "execution_count": null,
   "metadata": {},
   "outputs": [],
   "source": []
  },
  {
   "cell_type": "code",
   "execution_count": null,
   "metadata": {},
   "outputs": [],
   "source": []
  },
  {
   "cell_type": "code",
   "execution_count": null,
   "metadata": {},
   "outputs": [],
   "source": [
    "    "
   ]
  }
 ],
 "metadata": {
  "kernelspec": {
   "display_name": "Python 3",
   "language": "python",
   "name": "python3"
  },
  "language_info": {
   "codemirror_mode": {
    "name": "ipython",
    "version": 3
   },
   "file_extension": ".py",
   "mimetype": "text/x-python",
   "name": "python",
   "nbconvert_exporter": "python",
   "pygments_lexer": "ipython3",
   "version": "3.7.3"
  }
 },
 "nbformat": 4,
 "nbformat_minor": 4
}
